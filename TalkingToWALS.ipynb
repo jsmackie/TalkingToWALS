{
  "nbformat": 4,
  "nbformat_minor": 0,
  "metadata": {
    "colab": {
      "provenance": [],
      "mount_file_id": "1Oyn2Hp-XhDxIZqoXLYhLRtlvvYzT1Wm9",
      "authorship_tag": "ABX9TyNB5G6aMfct0zMyRSZkbLGy",
      "include_colab_link": true
    },
    "kernelspec": {
      "name": "python3",
      "display_name": "Python 3"
    },
    "language_info": {
      "name": "python"
    }
  },
  "cells": [
    {
      "cell_type": "markdown",
      "metadata": {
        "id": "view-in-github",
        "colab_type": "text"
      },
      "source": [
        "<a href=\"https://colab.research.google.com/github/jsmackie/TalkingToWALS/blob/mainline/TalkingToWALS.ipynb\" target=\"_parent\"><img src=\"https://colab.research.google.com/assets/colab-badge.svg\" alt=\"Open In Colab\"/></a>"
      ]
    },
    {
      "cell_type": "code",
      "execution_count": null,
      "metadata": {
        "id": "rhd0Td88tG3q"
      },
      "outputs": [],
      "source": []
    },
    {
      "cell_type": "code",
      "execution_count": null,
      "metadata": {
        "id": "VpMvHAYRQf9N"
      },
      "outputs": [],
      "source": [
        "!pip install -qU \\\n",
        "    langchain \\\n",
        "    cohere \\\n",
        "    tiktoken \\\n",
        "    openai \\\n",
        "    pinecone-client \\\n",
        "    pinecone-datasets \\\n",
        "    tqdm \\\n",
        "    langchain-openai"
      ]
    },
    {
      "cell_type": "code",
      "source": [
        "!pip install langchain_pinecone"
      ],
      "metadata": {
        "colab": {
          "base_uri": "https://localhost:8080/"
        },
        "id": "9xzipbazH14N",
        "outputId": "3edbfe3c-5662-4456-f35f-7e2fd824c940"
      },
      "execution_count": null,
      "outputs": [
        {
          "output_type": "stream",
          "name": "stdout",
          "text": [
            "Requirement already satisfied: langchain_pinecone in /usr/local/lib/python3.10/dist-packages (0.0.1)\n",
            "Requirement already satisfied: langchain-core>=0.0.12 in /usr/local/lib/python3.10/dist-packages (from langchain_pinecone) (0.1.22)\n",
            "Requirement already satisfied: numpy<2,>=1 in /usr/local/lib/python3.10/dist-packages (from langchain_pinecone) (1.23.5)\n",
            "Requirement already satisfied: pinecone-client<4,>=3 in /usr/local/lib/python3.10/dist-packages (from langchain_pinecone) (3.0.2)\n",
            "Requirement already satisfied: simsimd<4.0.0,>=3.6.3 in /usr/local/lib/python3.10/dist-packages (from langchain_pinecone) (3.7.6)\n",
            "Requirement already satisfied: PyYAML>=5.3 in /usr/local/lib/python3.10/dist-packages (from langchain-core>=0.0.12->langchain_pinecone) (6.0.1)\n",
            "Requirement already satisfied: anyio<5,>=3 in /usr/local/lib/python3.10/dist-packages (from langchain-core>=0.0.12->langchain_pinecone) (3.7.1)\n",
            "Requirement already satisfied: jsonpatch<2.0,>=1.33 in /usr/local/lib/python3.10/dist-packages (from langchain-core>=0.0.12->langchain_pinecone) (1.33)\n",
            "Requirement already satisfied: langsmith<0.0.88,>=0.0.87 in /usr/local/lib/python3.10/dist-packages (from langchain-core>=0.0.12->langchain_pinecone) (0.0.87)\n",
            "Requirement already satisfied: packaging<24.0,>=23.2 in /usr/local/lib/python3.10/dist-packages (from langchain-core>=0.0.12->langchain_pinecone) (23.2)\n",
            "Requirement already satisfied: pydantic<3,>=1 in /usr/local/lib/python3.10/dist-packages (from langchain-core>=0.0.12->langchain_pinecone) (1.10.14)\n",
            "Requirement already satisfied: requests<3,>=2 in /usr/local/lib/python3.10/dist-packages (from langchain-core>=0.0.12->langchain_pinecone) (2.31.0)\n",
            "Requirement already satisfied: tenacity<9.0.0,>=8.1.0 in /usr/local/lib/python3.10/dist-packages (from langchain-core>=0.0.12->langchain_pinecone) (8.2.3)\n",
            "Requirement already satisfied: certifi>=2019.11.17 in /usr/local/lib/python3.10/dist-packages (from pinecone-client<4,>=3->langchain_pinecone) (2024.2.2)\n",
            "Requirement already satisfied: tqdm>=4.64.1 in /usr/local/lib/python3.10/dist-packages (from pinecone-client<4,>=3->langchain_pinecone) (4.66.2)\n",
            "Requirement already satisfied: typing-extensions>=3.7.4 in /usr/local/lib/python3.10/dist-packages (from pinecone-client<4,>=3->langchain_pinecone) (4.9.0)\n",
            "Requirement already satisfied: urllib3>=1.26.0 in /usr/local/lib/python3.10/dist-packages (from pinecone-client<4,>=3->langchain_pinecone) (1.26.18)\n",
            "Requirement already satisfied: idna>=2.8 in /usr/local/lib/python3.10/dist-packages (from anyio<5,>=3->langchain-core>=0.0.12->langchain_pinecone) (3.6)\n",
            "Requirement already satisfied: sniffio>=1.1 in /usr/local/lib/python3.10/dist-packages (from anyio<5,>=3->langchain-core>=0.0.12->langchain_pinecone) (1.3.0)\n",
            "Requirement already satisfied: exceptiongroup in /usr/local/lib/python3.10/dist-packages (from anyio<5,>=3->langchain-core>=0.0.12->langchain_pinecone) (1.2.0)\n",
            "Requirement already satisfied: jsonpointer>=1.9 in /usr/local/lib/python3.10/dist-packages (from jsonpatch<2.0,>=1.33->langchain-core>=0.0.12->langchain_pinecone) (2.4)\n",
            "Requirement already satisfied: charset-normalizer<4,>=2 in /usr/local/lib/python3.10/dist-packages (from requests<3,>=2->langchain-core>=0.0.12->langchain_pinecone) (3.3.2)\n"
          ]
        }
      ]
    },
    {
      "cell_type": "code",
      "source": [
        "from langchain.text_splitter import RecursiveCharacterTextSplitter\n",
        "from google.colab import userdata, drive\n",
        "import tiktoken\n",
        "import os\n",
        "from langchain_openai import OpenAIEmbeddings\n",
        "from uuid import uuid4\n",
        "import pinecone\n",
        "from pinecone import Pinecone, PodSpec\n",
        "from openai import OpenAI\n",
        "from langchain_openai import ChatOpenAI\n",
        "from langchain.chains import RetrievalQA\n",
        "from langchain_pinecone import Pinecone as LangChainPinecone\n",
        "from langchain_openai import OpenAIEmbeddings\n"
      ],
      "metadata": {
        "id": "QCvpIbFUu5NN"
      },
      "execution_count": null,
      "outputs": []
    },
    {
      "cell_type": "code",
      "source": [
        "tokenizer = tiktoken.get_encoding('p50k_base')\n",
        "def tiktoken_len(text):\n",
        "    tokens = tokenizer.encode(\n",
        "        text,\n",
        "        disallowed_special=()\n",
        "    )\n",
        "    return len(tokens)\n"
      ],
      "metadata": {
        "id": "uaqCQuqsvlYc"
      },
      "execution_count": null,
      "outputs": []
    },
    {
      "cell_type": "code",
      "source": [
        "text_splitter = RecursiveCharacterTextSplitter(\n",
        "    chunk_size=400,\n",
        "    chunk_overlap=20,\n",
        "    length_function=tiktoken_len,\n",
        "    separators=[\"\\n\\n\", \"\\n\", \" \", \"\"]\n",
        ")"
      ],
      "metadata": {
        "id": "bdu1WVB2vwyN"
      },
      "execution_count": null,
      "outputs": []
    },
    {
      "cell_type": "code",
      "source": [
        "model_name = 'text-embedding-ada-002'\n",
        "\n",
        "openai_embeddings = OpenAIEmbeddings(\n",
        "    model = model_name,\n",
        "    openai_api_key=userdata.get('OPENAI_KEY')\n",
        ")"
      ],
      "metadata": {
        "id": "DyhAT6B2xck7"
      },
      "execution_count": null,
      "outputs": []
    },
    {
      "cell_type": "code",
      "source": [
        "#https://docs.pinecone.io/docs/manage-indexes#create-a-pod-based-index\n",
        "\n",
        "pc = Pinecone(api_key=userdata.get('PINECONE_TOKEN'))\n",
        "index = pc.Index('starter-index')\n",
        "\n",
        "# pc.create_index(\n",
        "#   name=\"starter-index\",\n",
        "#   dimension=1536,\n",
        "#   metric=\"cosine\",\n",
        "#   spec=PodSpec(\n",
        "#     environment=\"gcp-starter\"\n",
        "#   )\n",
        "# )\n"
      ],
      "metadata": {
        "id": "3Ic1-pR_6BFL"
      },
      "execution_count": null,
      "outputs": []
    },
    {
      "cell_type": "code",
      "source": [
        "\n",
        "path = '/content/drive/MyDrive/WALS'\n",
        "with open(os.path.join(path, 'chapter_metadata.csv')) as f:\n",
        "  headers = f.readline().strip().split(',')\n",
        "  lines = [line.strip().split(',') for line in f]\n",
        "chapter_metadata = dict()\n",
        "for i,line in enumerate(lines):\n",
        "  chapter_metadata[i] = {'title': line[headers.index('Name')],\n",
        "                         'authors': line[headers.index('Contributor')],\n",
        "                         'source': line[headers.index('Citation')],\n",
        "                         'topic': line[headers.index('Topic')]}"
      ],
      "metadata": {
        "id": "B6ojEvRgJ7OC"
      },
      "execution_count": null,
      "outputs": []
    },
    {
      "cell_type": "code",
      "source": [
        "batch_limit = 100\n",
        "texts = []\n",
        "metadatas = []\n",
        "for i,file in enumerate(os.listdir(os.path.join(path, 'chapters'))):\n",
        "  metadata = chapter_metadata[i]\n",
        "  with open(os.path.join(path, 'chapters', file), mode='r') as f:\n",
        "    text = ''.join([line for line in f])\n",
        "  record_texts = text_splitter.split_text(text)\n",
        "  record_metadatas = [{\"chunk\": j, \"text\": text, **metadata}\n",
        "                      for j, text in enumerate(record_texts)]\n",
        "  texts.extend(record_texts)\n",
        "  metadatas.extend(record_metadatas)\n",
        "  if len(texts) >= batch_limit:\n",
        "    ids = [str(uuid4()) for _ in range(len(texts))]\n",
        "    embeds = openai_embeddings.embed_documents(texts)\n",
        "    index.upsert(vectors=zip(ids, embeds, metadatas))\n",
        "    texts = []\n",
        "    metadatas = []\n"
      ],
      "metadata": {
        "id": "qOyU15H3tov7"
      },
      "execution_count": null,
      "outputs": []
    },
    {
      "cell_type": "code",
      "source": [
        "client = OpenAI(\n",
        "    api_key=userdata.get('OPENAI_KEY')\n",
        ")"
      ],
      "metadata": {
        "id": "AVYkpzS1PrD_"
      },
      "execution_count": null,
      "outputs": []
    },
    {
      "cell_type": "code",
      "source": [
        "query = \"What tone patterns are common?\"\n",
        "xq = client.embeddings.create(input=query, model=model_name).data[0].embedding\n",
        "\n",
        "# query, returning the top 5 most similar results\n",
        "res = index.query(vector=[xq], top_k=5, include_metadata=True)\n",
        "\n",
        "for match in res['matches']:\n",
        "    print(f\"{match['score']:.2f}: {match['metadata']['text']}\")\n",
        "# res = client.embeddings.create(input=[query],model='text-embedding-ada-002')\n",
        "# embedding = res.data[0].embedding\n",
        "# pinecone_result = index.query(vector=embedding, top_k=3, include_metadata=True)"
      ],
      "metadata": {
        "colab": {
          "base_uri": "https://localhost:8080/"
        },
        "id": "jq0zC1MVTFM7",
        "outputId": "73741407-a5e3-46c0-9b72-dea506c06d54"
      },
      "execution_count": null,
      "outputs": [
        {
          "output_type": "stream",
          "name": "stdout",
          "text": [
            "0.83: 1. Introduction All languages make use of variations in the musical pitch of the voice as part of their sound systems, but they differ in the ways in which modifications of pitch are used and how many different types of functions are served by pitch variations. Linguists distinguish between two of the major uses of pitch as tone and intonation . Intonation is the term that is used to describe sentence types, such as question versus statement, or to indicate whether a speaker has finished or intends to continue speaking, or to show which parts of an utterance present new or highlighted information versus old or less significant information. Tone is the term used to describe the use of pitch patterns to distinguish individual words or the grammatical forms of words, such as the singular and plural forms of nouns or different tenses of verbs. In the simplest cases, each syllable of a language with tones will have its own characteristic tonal pattern, which may be a relatively flat pitch at a particular level, or may involve the pitch rising or falling over the duration of the syllable. When the pitch has a moving pattern of this sort, the tone is described as a contour tone . Many of the languages of East and Southeast Asia, including all varieties of Chinese as well as Vietnamese and Thai , have tone systems that include contour tones. In Thai , for example, full syllables have one of five tones, of which three are basically flat at high, mid and low pitch levels, and the remaining two are rising and falling in shape. The syllable shape /kʰaa/ thus corresponds to five different words depending on the tone — /kʰáá/ with high tone means ‘to trade’, /kʰāā/ with mid tone means ‘to get stuck’, /kʰàà/ with low tone means ‘galangal’, /kʰàá/ with rising tone means ‘leg’\n",
            "0.83: 1. Introduction All languages make use of variations in the musical pitch of the voice as part of their sound systems, but they differ in the ways in which modifications of pitch are used and how many different types of functions are served by pitch variations. Linguists distinguish between two of the major uses of pitch as tone and intonation . Intonation is the term that is used to describe sentence types, such as question versus statement, or to indicate whether a speaker has finished or intends to continue speaking, or to show which parts of an utterance present new or highlighted information versus old or less significant information. Tone is the term used to describe the use of pitch patterns to distinguish individual words or the grammatical forms of words, such as the singular and plural forms of nouns or different tenses of verbs. In the simplest cases, each syllable of a language with tones will have its own characteristic tonal pattern, which may be a relatively flat pitch at a particular level, or may involve the pitch rising or falling over the duration of the syllable. When the pitch has a moving pattern of this sort, the tone is described as a contour tone . Many of the languages of East and Southeast Asia, including all varieties of Chinese as well as Vietnamese and Thai , have tone systems that include contour tones. In Thai , for example, full syllables have one of five tones, of which three are basically flat at high, mid and low pitch levels, and the remaining two are rising and falling in shape. The syllable shape /kʰaa/ thus corresponds to five different words depending on the tone — /kʰáá/ with high tone means ‘to trade’, /kʰāā/ with mid tone means ‘to get stuck’, /kʰàà/ with low tone means ‘galangal’, /kʰàá/ with rising tone means ‘leg’\n",
            "0.83: Asia are in an area where moderately complex syllable structure dominates. Each of the Tables 1-3 examines a simple overall correlation between the types of tone systems found and another phonological property across all the languages sampled, but it should be borne in mind that this type of analysis does not address the question of whether any of the correlations found are due to fortuitous overlaps of inherited and areally-spread properties or represent systematic design features of languages. These results do, however, suggest that tonal complexity might be differently related to segment inventory complexity than it is to syllabic complexity, and that further analysis of these patterns would be worthwhile.\n",
            "0.83: Asia are in an area where moderately complex syllable structure dominates. Each of the Tables 1-3 examines a simple overall correlation between the types of tone systems found and another phonological property across all the languages sampled, but it should be borne in mind that this type of analysis does not address the question of whether any of the correlations found are due to fortuitous overlaps of inherited and areally-spread properties or represent systematic design features of languages. These results do, however, suggest that tonal complexity might be differently related to segment inventory complexity than it is to syllabic complexity, and that further analysis of these patterns would be worthwhile.\n",
            "0.83: Asia are in an area where moderately complex syllable structure dominates. Each of the Tables 1-3 examines a simple overall correlation between the types of tone systems found and another phonological property across all the languages sampled, but it should be borne in mind that this type of analysis does not address the question of whether any of the correlations found are due to fortuitous overlaps of inherited and areally-spread properties or represent systematic design features of languages. These results do, however, suggest that tonal complexity might be differently related to segment inventory complexity than it is to syllabic complexity, and that further analysis of these patterns would be worthwhile.\n"
          ]
        }
      ]
    },
    {
      "cell_type": "code",
      "source": [
        "model_name = 'text-embedding-ada-002'\n",
        "\n",
        "embed = OpenAIEmbeddings(\n",
        "    openai_api_key=userdata.get('OPENAI_KEY')\n",
        ")\n",
        "vectorstore = LangChainPinecone(index, embed, text_key='text')"
      ],
      "metadata": {
        "id": "YWgMY3zJk6px"
      },
      "execution_count": null,
      "outputs": []
    },
    {
      "cell_type": "code",
      "source": [
        "llm = ChatOpenAI(\n",
        "    openai_api_key=userdata.get('OPENAI_KEY'),\n",
        "    model_name='gpt-3.5-turbo',\n",
        "    temperature=0.1\n",
        ")"
      ],
      "metadata": {
        "id": "h083MvTuTQqy"
      },
      "execution_count": null,
      "outputs": []
    },
    {
      "cell_type": "code",
      "source": [
        "qa = RetrievalQA.from_chain_type(\n",
        "    llm=llm,\n",
        "    retriever=vectorstore.as_retriever()\n",
        ")"
      ],
      "metadata": {
        "id": "PPVmJN1yhoZC"
      },
      "execution_count": null,
      "outputs": []
    },
    {
      "cell_type": "code",
      "source": [
        "qa.invoke(query)"
      ],
      "metadata": {
        "colab": {
          "base_uri": "https://localhost:8080/"
        },
        "id": "y7FXD_xATmPm",
        "outputId": "aab85362-e9b0-4495-bc84-4905af19ee95"
      },
      "execution_count": null,
      "outputs": [
        {
          "output_type": "execute_result",
          "data": {
            "text/plain": [
              "{'query': 'What tone patterns are common?',\n",
              " 'result': 'The passage does not provide specific information about the common tone patterns in languages. It only mentions that many languages in East and Southeast Asia, including Chinese, Vietnamese, and Thai, have tone systems that include contour tones. However, it does not specify the common tone patterns within these languages.'}"
            ]
          },
          "metadata": {},
          "execution_count": 32
        }
      ]
    },
    {
      "cell_type": "code",
      "source": [],
      "metadata": {
        "id": "a4bLGogsu7Z_"
      },
      "execution_count": null,
      "outputs": []
    }
  ]
}