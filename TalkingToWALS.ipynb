{
  "nbformat": 4,
  "nbformat_minor": 0,
  "metadata": {
    "colab": {
      "provenance": [],
      "authorship_tag": "ABX9TyMaXTtelO1PR2cIWQi+VtLm",
      "include_colab_link": true
    },
    "kernelspec": {
      "name": "python3",
      "display_name": "Python 3"
    },
    "language_info": {
      "name": "python"
    }
  },
  "cells": [
    {
      "cell_type": "markdown",
      "metadata": {
        "id": "view-in-github",
        "colab_type": "text"
      },
      "source": [
        "<a href=\"https://colab.research.google.com/github/jsmackie/TalkingToWALS/blob/mainline/TalkingToWALS.ipynb\" target=\"_parent\"><img src=\"https://colab.research.google.com/assets/colab-badge.svg\" alt=\"Open In Colab\"/></a>"
      ]
    },
    {
      "cell_type": "code",
      "source": [
        "!pip install -qU \\\n",
        "    cohere \\\n",
        "    langchain \\\n",
        "    tiktoken \\\n",
        "    pinecone-client \\\n",
        "    langchain-openai \\\n",
        "    langchain-pinecone\n",
        "!wget https://raw.githubusercontent.com/jsmackie/TalkingToWALS/mainline/HidingBehindWALS.py -O HidingBehindWALS.py\n",
        "import HidingBehindWALS as wals\n",
        "agent = wals.WALS()"
      ],
      "metadata": {
        "id": "7SKJgHx3NdzU"
      },
      "execution_count": null,
      "outputs": []
    },
    {
      "cell_type": "code",
      "execution_count": 14,
      "metadata": {
        "id": "j-vmVrb3CDvC",
        "colab": {
          "base_uri": "https://localhost:8080/"
        },
        "outputId": "af665e2d-231e-45dc-af00-dbe8d024ddcd"
      },
      "outputs": [
        {
          "output_type": "stream",
          "name": "stdout",
          "text": [
            "Chapter 21 of the World Atlas of Language Structures (WALS) is titled \"Fusion of Selected Inflectional Formatives\" and is authored by Balthasar Bickel & Johanna Nichols. This chapter delves into the fusion of inflectional formative elements in languages, particularly focusing on how certain morphemes are combined. It provides insights into how languages structure and combine these particular elements, shedding light on linguistic diversity in this area.\n"
          ]
        }
      ],
      "source": [
        "agent.TalkToWALS('Give me a summary of Chapter 21')"
      ]
    }
  ]
}