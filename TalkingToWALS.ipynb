{
  "cells": [
    {
      "cell_type": "markdown",
      "metadata": {
        "id": "view-in-github",
        "colab_type": "text"
      },
      "source": [
        "<a href=\"https://colab.research.google.com/github/jsmackie/TalkingToWALS/blob/flask_app/TalkingToWALS.ipynb\" target=\"_parent\"><img src=\"https://colab.research.google.com/assets/colab-badge.svg\" alt=\"Open In Colab\"/></a>"
      ]
    },
    {
      "cell_type": "code",
      "execution_count": null,
      "metadata": {
        "id": "7SKJgHx3NdzU"
      },
      "outputs": [],
      "source": [
        "!pip install -qU \\\n",
        "    cohere \\\n",
        "    langchain \\\n",
        "    tiktoken \\\n",
        "    pinecone-client \\\n",
        "    langchain-openai \\\n",
        "    langchain-pinecone \\\n",
        "    gradio"
      ]
    },
    {
      "cell_type": "code",
      "execution_count": null,
      "metadata": {
        "id": "7J6pKZSz0uyZ"
      },
      "outputs": [],
      "source": [
        "import gradio as gr\n",
        "from google.colab import userdata"
      ]
    },
    {
      "cell_type": "code",
      "execution_count": null,
      "metadata": {
        "id": "IuSvQn9zLvWN"
      },
      "outputs": [],
      "source": [
        "!wget https://raw.githubusercontent.com/jsmackie/TalkingToWALS/mainline/wals.py -O wals.py\n",
        "!wget https://raw.githubusercontent.com/jsmackie/TalkingToWALS/mainline/HidingBehindWALS.py -O HidingBehindWALS.py\n",
        "import wals"
      ]
    },
    {
      "cell_type": "code",
      "execution_count": null,
      "metadata": {
        "id": "IDaphgUF1fSt"
      },
      "outputs": [],
      "source": [
        "agent = wals.WALSBuilder(userdata.get('OPENAI_KEY'))"
      ]
    },
    {
      "cell_type": "code",
      "execution_count": null,
      "metadata": {
        "id": "KFDK2T8nHBZj"
      },
      "outputs": [],
      "source": [
        "gr.ChatInterface(agent.interact,\n",
        "                 textbox=gr.Textbox(placeholder=\"Ask me about the World Atlas of Language Structures\"),\n",
        "                 title=\"Talking To WALS\",\n",
        "                 description=\"Ask me about the World Atlas of Language Structures\",\n",
        "                 examples=[\"What is Chapter 1 about?\",\n",
        "                           \"Which chapters did Ian Maddieson write?\",\n",
        "                           \"What does WALS say about nominal morphology?\"],\n",
        "                 ).launch(agent.interact, debug=True)"
      ]
    }
  ],
  "metadata": {
    "colab": {
      "provenance": [],
      "authorship_tag": "ABX9TyOJswxsRxz/9ZdUf9kKGsOK",
      "include_colab_link": true
    },
    "kernelspec": {
      "display_name": "Python 3",
      "name": "python3"
    },
    "language_info": {
      "name": "python"
    }
  },
  "nbformat": 4,
  "nbformat_minor": 0
}