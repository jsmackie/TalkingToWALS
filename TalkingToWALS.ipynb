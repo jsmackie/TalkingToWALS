{
  "nbformat": 4,
  "nbformat_minor": 0,
  "metadata": {
    "colab": {
      "provenance": [],
      "authorship_tag": "ABX9TyNI6tc6BT2mxz0n2AEtsYy0",
      "include_colab_link": true
    },
    "kernelspec": {
      "name": "python3",
      "display_name": "Python 3"
    },
    "language_info": {
      "name": "python"
    }
  },
  "cells": [
    {
      "cell_type": "markdown",
      "metadata": {
        "id": "view-in-github",
        "colab_type": "text"
      },
      "source": [
        "<a href=\"https://colab.research.google.com/github/jsmackie/TalkingToWALS/blob/mainline/TalkingToWALS.ipynb\" target=\"_parent\"><img src=\"https://colab.research.google.com/assets/colab-badge.svg\" alt=\"Open In Colab\"/></a>"
      ]
    },
    {
      "cell_type": "code",
      "source": [
        "!pip install -qU \\\n",
        "    cohere \\\n",
        "    langchain \\\n",
        "    tiktoken \\\n",
        "    pinecone-client \\\n",
        "    langchain-openai \\\n",
        "    langchain-pinecone\n",
        "!wget https://raw.githubusercontent.com/jsmackie/TalkingToWALS/mainline/HidingBehindWALS.py -O HidingBehindWALS.py\n",
        "import HidingBehindWALS as wals\n",
        "agent = wals.WALS()"
      ],
      "metadata": {
        "id": "7SKJgHx3NdzU"
      },
      "execution_count": null,
      "outputs": []
    },
    {
      "cell_type": "code",
      "execution_count": 8,
      "metadata": {
        "id": "j-vmVrb3CDvC",
        "colab": {
          "base_uri": "https://localhost:8080/"
        },
        "outputId": "cb755344-569a-484a-a282-53ad0a85a1ad"
      },
      "outputs": [
        {
          "output_type": "stream",
          "name": "stdout",
          "text": [
            "Chapter 1 of the World Atlas of Language Structures (WALS) covers the feature of \"Consonant Inventories\" in languages. It provides information on the number and types of consonants that languages make use of, ranging from smaller inventories to larger ones. The chapter helps to understand the variety and distribution of consonant sounds across languages worldwide.\n"
          ]
        }
      ],
      "source": [
        "agent.TalkToWALS('Summarize Chapter 1')"
      ]
    }
  ]
}