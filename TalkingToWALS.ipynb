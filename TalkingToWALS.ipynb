{
  "nbformat": 4,
  "nbformat_minor": 0,
  "metadata": {
    "colab": {
      "provenance": [],
      "authorship_tag": "ABX9TyPMpx9Bgo9OBMmJGemJ95hj",
      "include_colab_link": true
    },
    "kernelspec": {
      "name": "python3",
      "display_name": "Python 3"
    },
    "language_info": {
      "name": "python"
    }
  },
  "cells": [
    {
      "cell_type": "markdown",
      "metadata": {
        "id": "view-in-github",
        "colab_type": "text"
      },
      "source": [
        "<a href=\"https://colab.research.google.com/github/jsmackie/TalkingToWALS/blob/mainline/TalkingToWALS.ipynb\" target=\"_parent\"><img src=\"https://colab.research.google.com/assets/colab-badge.svg\" alt=\"Open In Colab\"/></a>"
      ]
    },
    {
      "cell_type": "code",
      "source": [
        "!pip install -qU \\\n",
        "    cohere \\\n",
        "    langchain \\\n",
        "    tiktoken \\\n",
        "    pinecone-client \\\n",
        "    langchain-openai \\\n",
        "    langchain-pinecone"
      ],
      "metadata": {
        "id": "7SKJgHx3NdzU"
      },
      "execution_count": null,
      "outputs": []
    },
    {
      "cell_type": "code",
      "source": [
        "!wget https://raw.githubusercontent.com/jsmackie/TalkingToWALS/mainline/HidingBehindWALS.py -O HidingBehindWALS.py"
      ],
      "metadata": {
        "id": "pVn116QwLPpO"
      },
      "execution_count": null,
      "outputs": []
    },
    {
      "cell_type": "code",
      "source": [
        "import HidingBehindWALS as wals\n",
        "agent = wals.WALS()"
      ],
      "metadata": {
        "id": "iDxQcr7zOkuo"
      },
      "execution_count": 4,
      "outputs": []
    },
    {
      "cell_type": "code",
      "execution_count": 6,
      "metadata": {
        "id": "j-vmVrb3CDvC",
        "colab": {
          "base_uri": "https://localhost:8080/"
        },
        "outputId": "af0c78d9-36ec-44c7-e083-e703fbc9939f"
      },
      "outputs": [
        {
          "output_type": "stream",
          "name": "stdout",
          "text": [
            "The chapter in WALS that discusses velar nasals is Chapter 10, titled \"The Velar Nasal.\" This chapter is authored by Gregory D.S. Anderson and falls under the linguistic subfield of Phonology. It provides insights into the use and distribution of velar nasals in various languages.\n"
          ]
        }
      ],
      "source": [
        "agent.TalkToWALS('Tell me about velar nasals')"
      ]
    }
  ]
}