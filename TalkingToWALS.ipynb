{
  "nbformat": 4,
  "nbformat_minor": 0,
  "metadata": {
    "colab": {
      "provenance": [],
      "authorship_tag": "ABX9TyPWSbYRp511JNsdgbd5cEl3",
      "include_colab_link": true
    },
    "kernelspec": {
      "name": "python3",
      "display_name": "Python 3"
    },
    "language_info": {
      "name": "python"
    }
  },
  "cells": [
    {
      "cell_type": "markdown",
      "metadata": {
        "id": "view-in-github",
        "colab_type": "text"
      },
      "source": [
        "<a href=\"https://colab.research.google.com/github/jsmackie/TalkingToWALS/blob/mainline/TalkingToWALS.ipynb\" target=\"_parent\"><img src=\"https://colab.research.google.com/assets/colab-badge.svg\" alt=\"Open In Colab\"/></a>"
      ]
    },
    {
      "cell_type": "code",
      "source": [
        "!pip install -qU \\\n",
        "    cohere \\\n",
        "    langchain \\\n",
        "    tiktoken \\\n",
        "    pinecone-client \\\n",
        "    langchain-openai \\\n",
        "    langchain-pinecone"
      ],
      "metadata": {
        "id": "7SKJgHx3NdzU"
      },
      "execution_count": 1,
      "outputs": []
    },
    {
      "cell_type": "code",
      "source": [
        "!wget https://raw.githubusercontent.com/jsmackie/TalkingToWALS/mainline/HidingBehindWALS.py -O HidingBehindWALS.py\n"
      ],
      "metadata": {
        "id": "pVn116QwLPpO"
      },
      "execution_count": null,
      "outputs": []
    },
    {
      "cell_type": "code",
      "source": [
        "import HidingBehindWALS as wals\n",
        "agent = wals.TalkToWALS()"
      ],
      "metadata": {
        "id": "iDxQcr7zOkuo"
      },
      "execution_count": 12,
      "outputs": []
    },
    {
      "cell_type": "code",
      "execution_count": 18,
      "metadata": {
        "id": "j-vmVrb3CDvC",
        "colab": {
          "base_uri": "https://localhost:8080/"
        },
        "outputId": "e598a523-fc5c-4432-a200-b544c6f160a1"
      },
      "outputs": [
        {
          "output_type": "stream",
          "name": "stdout",
          "text": [
            "In the World Atlas of Language Structures (WALS), Chapter 10 titled \"The Velar Nasal\" authored by Gregory D.S. Anderson, it is noted that most languages in the sample for this study have non-iconic reciprocal constructions. This information provides insight into the prevalence of certain linguistic features in African languages as represented in the WALS sample.\n"
          ]
        }
      ],
      "source": [
        "query = 'Tell me something interesting about African languages in WALS'\n",
        "response = agent.invoke(query)\n",
        "print(response['result'])"
      ]
    }
  ]
}